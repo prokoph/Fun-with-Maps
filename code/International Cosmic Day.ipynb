{
 "cells": [
  {
   "cell_type": "markdown",
   "metadata": {},
   "source": [
    "# International Cosmic Day\n",
    "\n",
    "At the International Cosmic Day (https://icd.desy.de/) students, teachers, and scientists from all around the globe come together to learn about cosmic rays. If you are not yet familiar with this amazing event, please check out the website and consider joining. "
   ]
  },
  {
   "cell_type": "markdown",
   "metadata": {},
   "source": [
    "## Overall Purpose of the Notebook\n",
    "\n",
    "This notebook provides the means to illustrate nicely from where the participants come. In order make plots of the World (and subsets of it), we use data from natural earth (https://www.naturalearthdata.com/) which are in the public domain. "
   ]
  },
  {
   "cell_type": "code",
   "execution_count": null,
   "metadata": {},
   "outputs": [],
   "source": [
    "import geopandas as gpd\n",
    "import cartopy.io.shapereader as shpreader\n",
    "import cartopy.crs as ccrs\n",
    "import cartopy.feature as cfeature\n",
    "\n",
    "from shapely.geometry import Polygon\n",
    "\n",
    "import numpy as np\n",
    "import matplotlib.pyplot as plt\n",
    "%matplotlib notebook"
   ]
  },
  {
   "cell_type": "code",
   "execution_count": null,
   "metadata": {},
   "outputs": [],
   "source": [
    "# Read shape file  - get country borders\n",
    "resolution = '110m' #'10m'\n",
    "category = 'cultural'\n",
    "name = 'admin_0_countries'\n",
    "\n",
    "# read the natural earth shapefile using geopandas\n",
    "shpfilename = shpreader.natural_earth(resolution, category, name)\n",
    "world = gpd.read_file(shpfilename)\n",
    "\n",
    "world = world[world['CONTINENT'] != \"Antarctica\"]\n",
    "world.plot()"
   ]
  },
  {
   "cell_type": "markdown",
   "metadata": {},
   "source": [
    "## ICD Color Scheme and Geolocations of the Participants\n",
    "\n",
    "For best color matching, we try to match the ICD color scheme (TODO: check that these are correct).\n",
    "\n",
    "As organizers of the ICD, we have the geolocations of the participants for every year. The easiest way is to extract them from the central location as an KLM file and store them locally for the purpose of plotting using this python notebook. For each year, a different file is used, simply add another one for each new year."
   ]
  },
  {
   "cell_type": "code",
   "execution_count": null,
   "metadata": {},
   "outputs": [],
   "source": [
    "#Pink CMYK 0/100/0/0 (oder von mir ausgelesen RGB 222/0/123)  == eb588d\n",
    "#Blau CMYK 89/0/8/0 (oder von mir ausgelesen RGB 0/165/219) == 349ac0 == 3db5e3\n",
    "icdpink='#eb588d'\n",
    "icdblue='#3db5e3'\n",
    "\n",
    "# read in geo location from ICD maps export\n",
    "gpd.io.file.fiona.drvsupport.supported_drivers['KML'] = 'rw'\n",
    "\n",
    "fphess = \"/home/prokoph/DESY/outreach/2021_ICD/HESS.kml\"\n",
    "dfhess = gpd.read_file(fphess, driver='KML')\n",
    "fp2012 = \"/home/prokoph/DESY/outreach/2021_ICD/2012.kml\"\n",
    "df2012 = gpd.read_file(fp2012, driver='KML')\n",
    "fp2013 = \"/home/prokoph/DESY/outreach/2021_ICD/International Cosmic Day 2013.kml\"\n",
    "df2013 = gpd.read_file(fp2013, driver='KML')\n",
    "fp2014 = \"/home/prokoph/DESY/outreach/2021_ICD/International Cosmic Day 2014.kml\"\n",
    "df2014 = gpd.read_file(fp2014, driver='KML')\n",
    "fp2015 = \"/home/prokoph/DESY/outreach/2021_ICD/2015.kml\"\n",
    "df2015 = gpd.read_file(fp2015, driver='KML')\n",
    "fp2016 = \"/home/prokoph/DESY/outreach/2021_ICD/International Cosmic Day 2016.kml\"\n",
    "df2016 = gpd.read_file(fp2016, driver='KML')\n",
    "fp2017 = \"/home/prokoph/DESY/outreach/2021_ICD/International Cosmic Day 2017.kml\"\n",
    "df2017 = gpd.read_file(fp2017, driver='KML')\n",
    "fp2018 = \"/home/prokoph/DESY/outreach/2021_ICD/International Cosmic Day 2018.kml\"\n",
    "df2018 = gpd.read_file(fp2018, driver='KML')\n",
    "fp2019 = \"/home/prokoph/DESY/outreach/2021_ICD/International Cosmic Day 2019.kml\"\n",
    "df2019 = gpd.read_file(fp2019, driver='KML')\n",
    "fp2020 = \"/home/prokoph/DESY/outreach/2021_ICD/International Cosmic Day 2020.kml\"\n",
    "df2020 = gpd.read_file(fp2020, driver='KML')\n",
    "fp2021 = \"/home/prokoph/DESY/outreach/2021_ICD/International Cosmic Day 2021.kml\"\n",
    "df2021 = gpd.read_file(fp2021, driver='KML')\n",
    "fp2022 = \"/home/prokoph/DESY/outreach/2022_ICD/Participating Institutions.kml\"\n",
    "df2022 = gpd.read_file(fp2022, driver='KML')\n",
    "fp2023 = \"/home/prokoph/DESY/outreach/2023_ICD/cities and institutes.kml\"\n",
    "df2023 = gpd.read_file(fp2023, driver='KML')\n",
    "\n",
    "df2023"
   ]
  },
  {
   "cell_type": "markdown",
   "metadata": {},
   "source": [
    "## World Map of the Participants"
   ]
  },
  {
   "cell_type": "code",
   "execution_count": null,
   "metadata": {
    "scrolled": false
   },
   "outputs": [],
   "source": [
    "fig = plt.figure(figsize=(10, 10))\n",
    "ax = plt.axes(projection=ccrs.Mollweide())\n",
    "plt.axis('off')\n",
    "\n",
    "world.plot(ax=ax, edgecolor=\"white\", facecolor=icdblue, lw=0.25)\n",
    "df2023.plot(ax=ax,markersize=5,facecolor=icdpink)\n",
    "\n",
    "# plt.savefig('../ICD2023_World.png', dpi=600, transparent=True)"
   ]
  },
  {
   "cell_type": "markdown",
   "metadata": {},
   "source": [
    "## Get a closer view on Europe"
   ]
  },
  {
   "cell_type": "code",
   "execution_count": null,
   "metadata": {},
   "outputs": [],
   "source": [
    "# Read shape file  - get country borders\n",
    "resolution = '50m' #'10m'\n",
    "category = 'cultural'\n",
    "name = 'admin_0_countries'\n",
    "\n",
    "# read the natural earth shapefile using geopandas\n",
    "shpfilename = shpreader.natural_earth(resolution, category, name)\n",
    "world_hires = gpd.read_file(shpfilename)\n",
    "\n",
    "europe=world_hires[world_hires['CONTINENT'] == 'Europe']\n",
    "\n",
    "#Remove Russia and Iceland from map of Europe\n",
    "europe=europe[(europe['ADMIN']!='Russia') & (europe['ADMIN']!='Iceland')]\n",
    "# europe.plot()\n",
    "\n",
    "# Create a custom polygon\n",
    "polygon = Polygon([(-15,35), (40,35), (40,75),(-15,75)])\n",
    "poly_gdf = gpd.GeoDataFrame([1], geometry=[polygon], crs=world.crs)\n",
    "\n",
    "# fig,ax=plt.subplots()\n",
    "# ax=europe.plot(ax=ax)\n",
    "# poly_gdf.plot(edgecolor='red',ax=ax, alpha=0.1)\n",
    "# plt.show()\n",
    "\n",
    "#Clip polygon from the map of Europe\n",
    "europe=gpd.clip(europe, polygon) \n",
    "europe.plot()"
   ]
  },
  {
   "cell_type": "code",
   "execution_count": null,
   "metadata": {
    "scrolled": false
   },
   "outputs": [],
   "source": [
    "fig = plt.figure(figsize=(10, 10))\n",
    "ax = plt.axes(projection=ccrs.Mollweide())\n",
    "plt.axis('off')\n",
    "europe.plot(ax=ax, edgecolor=\"white\", facecolor=icdblue, lw=0.25)\n",
    "\n",
    "df23=gpd.clip(df2023, polygon) \n",
    "df23.plot(ax=ax,markersize=22,facecolor=icdpink)\n",
    "\n",
    "# plt.savefig('../ICD2023_Europe.png',dpi=600, transparent=True)"
   ]
  },
  {
   "cell_type": "markdown",
   "metadata": {},
   "source": [
    "## All Years in One Plot\n",
    "\n",
    "And something we tried for the 10th anniversary of the ICD is to plot all years into one plot, e.g. using different intensities, colors, etc. and make some artistic correction offline. For the final plot, check out the press release: https://www.desy.de/aktuelles/news_suche/index_ger.html?openDirectAnchor=2184\n",
    "\n",
    "If you wanna try your luck in getting it nicely displayed, here is at least a starting point... \n",
    "In case you are even interested in an animated rotating Earth, check out the notebook named Globe (or alike). "
   ]
  },
  {
   "cell_type": "code",
   "execution_count": null,
   "metadata": {},
   "outputs": [],
   "source": [
    "fig = plt.figure(figsize=(10, 10))\n",
    "ax = plt.axes(projection=ccrs.Mollweide())\n",
    "plt.axis('off')\n",
    "world.plot(ax=ax, edgecolor=\"white\", facecolor='#02003c', lw=0.25)\n",
    "df2012.plot(ax=ax, alpha=0.3,markersize=1,facecolor='cyan')\n",
    "df2013.plot(ax=ax, alpha=0.3,markersize=1,facecolor='cyan')\n",
    "df2014.plot(ax=ax, alpha=0.3,markersize=1,facecolor='cyan')\n",
    "df2015.plot(ax=ax, alpha=0.3,markersize=1,facecolor='cyan')\n",
    "df2016.plot(ax=ax, alpha=0.3,markersize=1,facecolor='cyan')\n",
    "df2017.plot(ax=ax, alpha=0.3,markersize=1,facecolor='cyan')\n",
    "df2018.plot(ax=ax, alpha=0.3,markersize=1,facecolor='cyan')\n",
    "df2019.plot(ax=ax, alpha=0.3,markersize=1,facecolor='cyan')\n",
    "df2020.plot(ax=ax, alpha=0.3,markersize=1,facecolor='cyan')\n",
    "df2021.plot(ax=ax, alpha=0.3,markersize=1,facecolor='cyan')\n",
    "dfhess.plot(ax=ax, alpha=0.3,markersize=1,facecolor='cyan')\n",
    "\n",
    "# df2012.plot(ax=ax,markersize=0.1,facecolor='w')\n",
    "# df2013.plot(ax=ax,markersize=0.1,facecolor='w')\n",
    "# df2014.plot(ax=ax,markersize=0.1,facecolor='w')\n",
    "# df2015.plot(ax=ax,markersize=0.1,facecolor='w')\n",
    "# df2016.plot(ax=ax,markersize=0.1,facecolor='w')\n",
    "# df2017.plot(ax=ax,markersize=0.1,facecolor='w')\n",
    "# df2018.plot(ax=ax,markersize=0.1,facecolor='w')\n",
    "# df2019.plot(ax=ax,markersize=0.1,facecolor='w')\n",
    "# df2020.plot(ax=ax,markersize=0.1,facecolor='w')\n",
    "# # df2021.plot(ax=ax,markersize=3,facecolor='blue')\n",
    "# df2021.plot(ax=ax,markersize=0.1,facecolor='lightgrey',linewidth=1)\n",
    "# dfhess.plot(ax=ax,markersize=0.1,facecolor='w')\n",
    "\n",
    "# plt.savefig('../darkblue_world_small_alpha.png',dpi=300)"
   ]
  },
  {
   "cell_type": "code",
   "execution_count": null,
   "metadata": {
    "scrolled": false
   },
   "outputs": [],
   "source": [
    "fig = plt.figure(figsize=(10, 10))\n",
    "ax = plt.axes(projection=ccrs.Mollweide())\n",
    "plt.axis('off')\n",
    "europe.plot(ax=ax, edgecolor=\"white\", facecolor='#02003c', lw=0.25)\n",
    "\n",
    "df12=gpd.clip(df2012, polygon) \n",
    "df12.plot(ax=ax,markersize=20,facecolor='cyan',alpha=0.3)\n",
    "df13=gpd.clip(df2013, polygon) \n",
    "df13.plot(ax=ax,markersize=20,facecolor='cyan',alpha=0.3)\n",
    "df14=gpd.clip(df2014, polygon) \n",
    "df14.plot(ax=ax,markersize=20,facecolor='cyan',alpha=0.3)\n",
    "df15=gpd.clip(df2015, polygon) \n",
    "df15.plot(ax=ax,markersize=20,facecolor='cyan',alpha=0.3)\n",
    "df16=gpd.clip(df2017, polygon) \n",
    "df16.plot(ax=ax,markersize=20,facecolor='cyan',alpha=0.3)\n",
    "df17=gpd.clip(df2017, polygon) \n",
    "df17.plot(ax=ax,markersize=20,facecolor='cyan',alpha=0.3)\n",
    "df18=gpd.clip(df2018, polygon) \n",
    "df18.plot(ax=ax,markersize=20,facecolor='cyan',alpha=0.3)\n",
    "df19=gpd.clip(df2019, polygon) \n",
    "df19.plot(ax=ax,markersize=20,facecolor='cyan',alpha=0.3)\n",
    "df20=gpd.clip(df2020, polygon) \n",
    "df20.plot(ax=ax,markersize=20,facecolor='cyan',alpha=0.3)\n",
    "df21=gpd.clip(df2021, polygon) \n",
    "df21.plot(ax=ax,markersize=20,facecolor='cyan',alpha=0.3)\n",
    "df22=gpd.clip(df2022, polygon) \n",
    "df22.plot(ax=ax,markersize=22,facecolor='cyan',alpha=0.3)\n",
    "df23=gpd.clip(df2023, polygon) \n",
    "df23.plot(ax=ax,markersize=22,facecolor='none',edgecolor='red',linewidth=1)\n",
    "\n",
    "# plt.savefig('../darkblue_europe_2023highlighted.png',dpi=300)"
   ]
  },
  {
   "cell_type": "code",
   "execution_count": null,
   "metadata": {},
   "outputs": [],
   "source": []
  }
 ],
 "metadata": {
  "kernelspec": {
   "display_name": "Python 3",
   "language": "python",
   "name": "python3"
  },
  "language_info": {
   "codemirror_mode": {
    "name": "ipython",
    "version": 3
   },
   "file_extension": ".py",
   "mimetype": "text/x-python",
   "name": "python",
   "nbconvert_exporter": "python",
   "pygments_lexer": "ipython3",
   "version": "3.6.10"
  }
 },
 "nbformat": 4,
 "nbformat_minor": 4
}
