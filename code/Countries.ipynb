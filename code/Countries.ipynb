{
 "cells": [
  {
   "cell_type": "markdown",
   "metadata": {},
   "source": [
    "# Examples to make plots of countries\n",
    "\n",
    "In order make plots of the World (and subsets of it), we use data from natural earth (https://www.naturalearthdata.com/) which are in the public domain. They are available at different scales and with different levels of details."
   ]
  },
  {
   "cell_type": "code",
   "execution_count": null,
   "metadata": {},
   "outputs": [],
   "source": [
    "import matplotlib.pyplot as plt\n",
    "%matplotlib inline\n",
    "\n",
    "import numpy as np"
   ]
  },
  {
   "cell_type": "markdown",
   "metadata": {},
   "source": [
    "### Plotting using GeoPandas"
   ]
  },
  {
   "cell_type": "code",
   "execution_count": null,
   "metadata": {},
   "outputs": [],
   "source": [
    "import geopandas as gpd\n",
    "\n",
    "import cartopy\n",
    "import cartopy.io.shapereader as shpreader\n",
    "import cartopy.crs as ccrs\n",
    "from cartopy.feature import ShapelyFeature\n",
    "\n",
    "# Read shape file  - get country borders\n",
    "resolution = '110m' #'10m'\n",
    "category = 'cultural'\n",
    "name = 'admin_0_countries'\n",
    "\n",
    "# read the natural earth shapefile using geopandas\n",
    "shpfilename = shpreader.natural_earth(resolution, category, name)\n",
    "world = gpd.read_file(shpfilename)\n",
    "\n",
    "world.plot()"
   ]
  },
  {
   "cell_type": "code",
   "execution_count": null,
   "metadata": {},
   "outputs": [],
   "source": [
    "# plot only one continent\n",
    "africa = world[world['CONTINENT'] == \"Africa\"]\n",
    "africa.plot()\n",
    "\n",
    "# save as shapefile\n",
    "# africa.to_file(\"africa.shp\")"
   ]
  },
  {
   "cell_type": "code",
   "execution_count": null,
   "metadata": {},
   "outputs": [],
   "source": [
    "# plot only one country\n",
    "namibia = africa[africa['ADMIN'] == \"Namibia\"]\n",
    "namibia.plot()\n",
    "\n",
    "# save as shapefile\n",
    "# namibia.to_file(\"namibia.shp\")\n",
    "# read from file\n",
    "# df = gpd.read_file(\"namibia.shp\")"
   ]
  },
  {
   "cell_type": "code",
   "execution_count": null,
   "metadata": {},
   "outputs": [],
   "source": [
    "# plot continent and highlight one country\n",
    "fig = plt.figure(figsize=(10, 10))\n",
    "ax = plt.axes(projection=cartopy.crs.Mollweide())\n",
    "plt.axis('off')\n",
    "africa.plot(ax=ax, edgecolor=\"black\", facecolor='lightgray', lw=0.25)\n",
    "namibia.plot(ax=ax, edgecolor=\"None\", facecolor='red', lw=0.25)"
   ]
  },
  {
   "cell_type": "markdown",
   "metadata": {},
   "source": [
    "### Plotting with Cartopy"
   ]
  },
  {
   "cell_type": "code",
   "execution_count": null,
   "metadata": {},
   "outputs": [],
   "source": [
    "import cartopy.feature as cfeature\n",
    "\n",
    "\n",
    "def basemap_germany():\n",
    "    fig = plt.figure(figsize=(12, 12))\n",
    "    ax = fig.add_subplot(111)\n",
    "\n",
    "    extent = [5.8, 15, 47, 55.2]\n",
    "    central_lon = np.mean(extent[:2])\n",
    "    central_lat = np.mean(extent[2:])\n",
    "\n",
    "    ax = plt.axes(projection=ccrs.Orthographic(central_lon, central_lat))\n",
    "    ax.set_extent(extent)\n",
    "\n",
    "    highlight=['Germany']\n",
    "    shpfilename = shpreader.natural_earth(resolution='10m', category='cultural', name='admin_0_map_subunits')\n",
    "    reader = shpreader.Reader(shpfilename)\n",
    "    countries = reader.records()\n",
    "\n",
    "    for country in countries:\n",
    "         if country.attributes['NAME'] in highlight:\n",
    "                ax.add_geometries(country.geometry, ccrs.PlateCarree(),\n",
    "                                  facecolor=cfeature.COLORS['land'], edgecolor='grey')\n",
    "\n",
    "    ax.add_feature(cfeature.LAKES)\n",
    "    ax.add_feature(cfeature.RIVERS)\n",
    "    ax.add_feature(cfeature.OCEAN)\n",
    "\n",
    "    lakes_EU = cfeature.NaturalEarthFeature(category='physical',name='lakes_europe',\n",
    "                                            scale='10m',facecolor=cfeature.COLORS['water'])\n",
    "    ax.add_feature(lakes_EU)\n",
    "    \n",
    "    return fig, ax\n",
    "\n",
    "fig, ax = basemap_germany()"
   ]
  },
  {
   "cell_type": "code",
   "execution_count": null,
   "metadata": {},
   "outputs": [],
   "source": []
  },
  {
   "cell_type": "code",
   "execution_count": null,
   "metadata": {},
   "outputs": [],
   "source": []
  }
 ],
 "metadata": {
  "kernelspec": {
   "display_name": "Python 3",
   "language": "python",
   "name": "python3"
  },
  "language_info": {
   "codemirror_mode": {
    "name": "ipython",
    "version": 3
   },
   "file_extension": ".py",
   "mimetype": "text/x-python",
   "name": "python",
   "nbconvert_exporter": "python",
   "pygments_lexer": "ipython3",
   "version": "3.6.10"
  }
 },
 "nbformat": 4,
 "nbformat_minor": 4
}
