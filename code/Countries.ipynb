{
 "cells": [
  {
   "cell_type": "markdown",
   "metadata": {},
   "source": [
    "# Examples to make plots of countries\n",
    "\n",
    "In order make plots of the World (and subsets of it), we use data from natural earth (https://www.naturalearthdata.com/) which are in the public domain. They are available at different scales and with different levels of details."
   ]
  },
  {
   "cell_type": "code",
   "execution_count": null,
   "metadata": {},
   "outputs": [],
   "source": [
    "import matplotlib.pyplot as plt\n",
    "%matplotlib inline\n",
    "\n",
    "import numpy as np"
   ]
  },
  {
   "cell_type": "markdown",
   "metadata": {},
   "source": [
    "### Plotting using GeoPandas"
   ]
  },
  {
   "cell_type": "code",
   "execution_count": null,
   "metadata": {},
   "outputs": [],
   "source": [
    "import geopandas as gpd\n",
    "\n",
    "import cartopy\n",
    "import cartopy.io.shapereader as shpreader\n",
    "import cartopy.crs as ccrs\n",
    "from cartopy.feature import ShapelyFeature\n",
    "\n",
    "# Read shape file  - get country borders\n",
    "resolution = '110m' #'10m'\n",
    "category = 'cultural'\n",
    "name = 'admin_0_countries'\n",
    "\n",
    "# read the natural earth shapefile using geopandas\n",
    "shpfilename = shpreader.natural_earth(resolution, category, name)\n",
    "world = gpd.read_file(shpfilename)\n",
    "\n",
    "world.plot()"
   ]
  },
  {
   "cell_type": "code",
   "execution_count": null,
   "metadata": {},
   "outputs": [],
   "source": [
    "# plot only one continent\n",
    "africa = world[world['CONTINENT'] == \"Africa\"]\n",
    "africa.plot()\n",
    "\n",
    "# save as shapefile\n",
    "# africa.to_file(\"africa.shp\")"
   ]
  },
  {
   "cell_type": "code",
   "execution_count": null,
   "metadata": {},
   "outputs": [],
   "source": [
    "# plot only one country\n",
    "namibia = africa[africa['ADMIN'] == \"Namibia\"]\n",
    "namibia.plot()\n",
    "\n",
    "# save as shapefile\n",
    "# namibia.to_file(\"namibia.shp\")\n",
    "# read from file\n",
    "# df = gpd.read_file(\"namibia.shp\")"
   ]
  },
  {
   "cell_type": "code",
   "execution_count": null,
   "metadata": {},
   "outputs": [],
   "source": [
    "# plot continent and highlight one country\n",
    "fig = plt.figure(figsize=(10, 10))\n",
    "ax = plt.axes(projection=cartopy.crs.Mollweide())\n",
    "plt.axis('off')\n",
    "africa.plot(ax=ax, edgecolor=\"black\", facecolor='lightgray', lw=0.25)\n",
    "namibia.plot(ax=ax, edgecolor=\"None\", facecolor='red', lw=0.25)"
   ]
  },
  {
   "cell_type": "markdown",
   "metadata": {},
   "source": [
    "### Plotting with Cartopy"
   ]
  },
  {
   "cell_type": "code",
   "execution_count": null,
   "metadata": {},
   "outputs": [],
   "source": [
    "import cartopy.feature as cfeature\n",
    "\n",
    "\n",
    "def basemap_germany():\n",
    "    fig = plt.figure(figsize=(12, 12))\n",
    "    ax = fig.add_subplot(111)\n",
    "\n",
    "    extent = [5.8, 15, 47, 55.2]\n",
    "    central_lon = np.mean(extent[:2])\n",
    "    central_lat = np.mean(extent[2:])\n",
    "\n",
    "    ax = plt.axes(projection=ccrs.Orthographic(central_lon, central_lat))\n",
    "    ax.set_extent(extent)\n",
    "\n",
    "    highlight=['Germany']\n",
    "    shpfilename = shpreader.natural_earth(resolution='10m', category='cultural', name='admin_0_map_subunits')\n",
    "    reader = shpreader.Reader(shpfilename)\n",
    "    countries = reader.records()\n",
    "\n",
    "    for country in countries:\n",
    "         if country.attributes['NAME'] in highlight:\n",
    "                ax.add_geometries(country.geometry, ccrs.PlateCarree(),\n",
    "                                  facecolor=cfeature.COLORS['land'], edgecolor='grey')\n",
    "\n",
    "    ax.add_feature(cfeature.LAKES)\n",
    "    ax.add_feature(cfeature.RIVERS)\n",
    "    ax.add_feature(cfeature.OCEAN)\n",
    "\n",
    "    lakes_EU = cfeature.NaturalEarthFeature(category='physical',name='lakes_europe',\n",
    "                                            scale='10m',facecolor=cfeature.COLORS['water'])\n",
    "    ax.add_feature(lakes_EU)    \n",
    "    \n",
    "    \n",
    "    return fig, ax\n",
    "\n",
    "fig, ax = basemap_germany()"
   ]
  },
  {
   "cell_type": "code",
   "execution_count": null,
   "metadata": {},
   "outputs": [],
   "source": [
    "shape_df = gpd.read_file('plz-5stellig.shp/vg2500_12-31.tm32.shape/vg2500/VG2500_KRS.shp', dtype={'plz': str})\n",
    "shape_df.head()"
   ]
  },
  {
   "cell_type": "code",
   "execution_count": null,
   "metadata": {},
   "outputs": [],
   "source": []
  },
  {
   "cell_type": "code",
   "execution_count": null,
   "metadata": {},
   "outputs": [],
   "source": []
  },
  {
   "cell_type": "code",
   "execution_count": null,
   "metadata": {},
   "outputs": [],
   "source": []
  },
  {
   "cell_type": "code",
   "execution_count": null,
   "metadata": {},
   "outputs": [],
   "source": []
  },
  {
   "cell_type": "code",
   "execution_count": null,
   "metadata": {},
   "outputs": [],
   "source": []
  },
  {
   "cell_type": "code",
   "execution_count": null,
   "metadata": {},
   "outputs": [],
   "source": []
  },
  {
   "cell_type": "code",
   "execution_count": null,
   "metadata": {},
   "outputs": [],
   "source": []
  },
  {
   "cell_type": "code",
   "execution_count": null,
   "metadata": {},
   "outputs": [],
   "source": []
  },
  {
   "cell_type": "code",
   "execution_count": null,
   "metadata": {},
   "outputs": [],
   "source": []
  },
  {
   "cell_type": "code",
   "execution_count": null,
   "metadata": {},
   "outputs": [],
   "source": [
    "plz_shape_df = gpd.read_file('plz-5stellig.shp/plz-5stellig.shp', dtype={'plz': str})\n",
    "plz_shape_df.head()\n",
    "\n",
    "plt.rcParams['figure.figsize'] = [16, 11]\n",
    "\n",
    "# Get lat and lng of Germany's main cities. \n",
    "top_cities = {\n",
    "    'Berlin': (13.404954, 52.520008), \n",
    "    'Köln': (6.953101, 50.935173),\n",
    "    'Düsseldorf': (6.782048, 51.227144),\n",
    "    'Frankfurt': (8.682127, 50.110924),\n",
    "    'Hamburg': (9.993682, 53.551086),\n",
    "    'Leipzig': (12.387772, 51.343479),\n",
    "    'München': (11.576124, 48.137154),\n",
    "    'Dortmund': (7.468554, 51.513400),\n",
    "    'Stuttgart': (9.181332, 48.777128),\n",
    "    'Nürnberg': (11.077438, 49.449820),\n",
    "    'Hannover': (9.73322, 52.37052)\n",
    "}\n",
    "\n",
    "fig, ax = plt.subplots()\n",
    "\n",
    "plz_shape_df.plot(ax=ax, color=cfeature.COLORS['land'])\n",
    "\n",
    "# Plot cities. \n",
    "for c in top_cities.keys():\n",
    "    # Plot city name.\n",
    "    ax.text(\n",
    "        x=top_cities[c][0], \n",
    "        # Add small shift to avoid overlap with point.\n",
    "        y=top_cities[c][1] + 0.08, \n",
    "        s=c, \n",
    "        fontsize=12,\n",
    "        ha='center', \n",
    "    )\n",
    "    # Plot city location centroid.\n",
    "    ax.plot(\n",
    "        top_cities[c][0], \n",
    "        top_cities[c][1], \n",
    "        marker='o',\n",
    "        c='black', \n",
    "        alpha=0.5\n",
    "    )\n",
    "\n",
    "ax.set(\n",
    "    aspect=1.3, \n",
    "    facecolor=cfeature.COLORS['water']\n",
    ");"
   ]
  },
  {
   "cell_type": "code",
   "execution_count": null,
   "metadata": {},
   "outputs": [],
   "source": [
    "# Create feature.\n",
    "plz_shape_df = plz_shape_df \\\n",
    "    .assign(first_dig_plz = lambda x: x['plz'].str.slice(start=0, stop=1))"
   ]
  },
  {
   "cell_type": "code",
   "execution_count": null,
   "metadata": {},
   "outputs": [],
   "source": [
    "fig, ax = plt.subplots()\n",
    "\n",
    "plz_shape_df.plot(\n",
    "    ax=ax, \n",
    "    column='first_dig_plz', \n",
    "    categorical=True, \n",
    "    legend=True, \n",
    "    legend_kwds={'title':'First Digit', 'loc':'lower right'},\n",
    "    cmap='tab20',\n",
    "    alpha=0.9\n",
    ")\n",
    "\n",
    "for c in top_cities.keys():\n",
    "\n",
    "    ax.text(\n",
    "        x=top_cities[c][0], \n",
    "        y=top_cities[c][1] + 0.08, \n",
    "        s=c, \n",
    "        fontsize=12,\n",
    "        ha='center', \n",
    "    )\n",
    "\n",
    "    ax.plot(\n",
    "        top_cities[c][0], \n",
    "        top_cities[c][1], \n",
    "        marker='o',\n",
    "        c='black', \n",
    "        alpha=0.5\n",
    "    )\n",
    "\n",
    "ax.set(\n",
    "    title='Germany First-Digit-Postal Codes Areas', \n",
    "    aspect=1.3,\n",
    "    facecolor='white'\n",
    ");"
   ]
  },
  {
   "cell_type": "code",
   "execution_count": null,
   "metadata": {},
   "outputs": [],
   "source": [
    "import geopandas as gpd\n",
    "import pandas as pd\n",
    "import numpy as np\n",
    "\n",
    "plz_region_df = pd.read_csv(\n",
    "    'plz-5stellig.shp/zuordnung_plz_ort.csv', \n",
    "    sep=',', \n",
    "    dtype={'plz': str}\n",
    ")\n",
    "\n",
    "plz_region_df.drop('osm_id', axis=1, inplace=True)\n",
    "\n",
    "plz_region_df.head()"
   ]
  },
  {
   "cell_type": "code",
   "execution_count": null,
   "metadata": {},
   "outputs": [],
   "source": [
    "# Merge data.\n",
    "germany_df = pd.merge(\n",
    "    left=plz_shape_df, \n",
    "    right=plz_region_df, \n",
    "    on='plz',\n",
    "    how='inner'\n",
    ")\n",
    "\n",
    "germany_df.drop(['note'], axis=1, inplace=True)\n",
    "\n",
    "germany_df.head()"
   ]
  },
  {
   "cell_type": "code",
   "execution_count": null,
   "metadata": {},
   "outputs": [],
   "source": [
    "fig, ax = plt.subplots()\n",
    "\n",
    "germany_df.plot(\n",
    "    ax=ax, \n",
    "    column='bundesland', \n",
    "    categorical=True, \n",
    "    legend=True, \n",
    "    legend_kwds={'title':'Bundesland', 'bbox_to_anchor': (1.35, 0.8)},\n",
    "#     cmap='tab20'\n",
    ")\n",
    "\n",
    "# for c in top_cities.keys():\n",
    "\n",
    "#     ax.text(\n",
    "#         x=top_cities[c][0], \n",
    "#         y=top_cities[c][1] + 0.08, \n",
    "#         s=c, \n",
    "#         fontsize=12,\n",
    "#         ha='center', \n",
    "#     )\n",
    "\n",
    "#     ax.plot(\n",
    "#         top_cities[c][0], \n",
    "#         top_cities[c][1], \n",
    "#         marker='o',\n",
    "#         c='black', \n",
    "#         alpha=0.5\n",
    "#     )\n",
    "\n",
    "ax.set(\n",
    "    aspect=1.3, \n",
    "    facecolor='white'\n",
    ");"
   ]
  },
  {
   "cell_type": "code",
   "execution_count": null,
   "metadata": {},
   "outputs": [],
   "source": []
  },
  {
   "cell_type": "code",
   "execution_count": null,
   "metadata": {},
   "outputs": [],
   "source": []
  },
  {
   "cell_type": "code",
   "execution_count": null,
   "metadata": {},
   "outputs": [],
   "source": []
  },
  {
   "cell_type": "code",
   "execution_count": null,
   "metadata": {},
   "outputs": [],
   "source": []
  }
 ],
 "metadata": {
  "kernelspec": {
   "display_name": "Python 3",
   "language": "python",
   "name": "python3"
  },
  "language_info": {
   "codemirror_mode": {
    "name": "ipython",
    "version": 3
   },
   "file_extension": ".py",
   "mimetype": "text/x-python",
   "name": "python",
   "nbconvert_exporter": "python",
   "pygments_lexer": "ipython3",
   "version": "3.6.10"
  }
 },
 "nbformat": 4,
 "nbformat_minor": 4
}
