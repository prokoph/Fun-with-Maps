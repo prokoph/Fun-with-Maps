{
 "cells": [
  {
   "cell_type": "markdown",
   "metadata": {},
   "source": [
    "# Example to make a Rotating Globe\n",
    "\n",
    "Let's have some fun by trying to make a rotating globe, display some locations fading in and out with time, maybe even add the day/night shadows for more fun and ... Well, I just hope that it looks somewhat nice at the end when using python routines only (otherwise I might need to do some more advanced image magic or even worse 3D modelling). "
   ]
  },
  {
   "cell_type": "markdown",
   "metadata": {},
   "source": [
    "## Globe Animation (with cartopy based on Natural Earth data)\n",
    "\n",
    "As a baseline, I've used the following answer on stackoverflow to produce a quick animation: \n",
    "https://stackoverflow.com/questions/51801109/animate-a-point-between-two-points-along-with-rotating-earth"
   ]
  },
  {
   "cell_type": "code",
   "execution_count": null,
   "metadata": {},
   "outputs": [],
   "source": [
    "import cartopy.feature as cfeature\n",
    "import cartopy.crs as ccrs\n",
    "\n",
    "import numpy as np\n",
    "\n",
    "import matplotlib.animation as animation\n",
    "import matplotlib.pyplot as plt\n",
    "%matplotlib notebook\n",
    "\n",
    "plt.figure(figsize=(4,4))\n",
    "\n",
    "def decorate_axes(ax):\n",
    "    ax.set_global()\n",
    "    ax.add_feature(cfeature.OCEAN)\n",
    "    ax.coastlines()\n",
    "    ax.add_feature(cfeature.BORDERS, linestyle=':',linewidth=0.3, alpha=.5)\n",
    "\n",
    "    \n",
    "def animate(i):\n",
    "    lon = i\n",
    "\n",
    "    ax = plt.gca()\n",
    "    ax.remove()\n",
    "\n",
    "    ax = plt.axes([0, 0, 1, 1], projection=ccrs.Orthographic(\n",
    "        central_latitude=0, central_longitude=lon))\n",
    "    decorate_axes(ax)\n",
    "\n",
    "\n",
    "ani = animation.FuncAnimation(\n",
    "    plt.gcf(), animate,\n",
    "    frames=np.linspace(360, 0, 60),\n",
    "    interval=125, repeat=False)\n",
    "\n",
    "plt.show()"
   ]
  },
  {
   "cell_type": "markdown",
   "metadata": {},
   "source": [
    "## Adding Geographical Locations\n",
    "\n",
    "We want to show a few locations on the map. So we use the geo-locations of the participants of the International Cosmic Day (https://icd.desy.de/). A day, where students, teachers and scientists from all around the globe come together to learn about cosmic rays. "
   ]
  },
  {
   "cell_type": "code",
   "execution_count": null,
   "metadata": {},
   "outputs": [],
   "source": [
    "import geopandas as gpd\n",
    "\n",
    "# read in geo location from google maps export\n",
    "gpd.io.file.fiona.drvsupport.supported_drivers['KML'] = 'rw'\n",
    "fp = \"/home/prokoph/DESY/outreach/ICD2021/Participants2020.kml\"\n",
    "df = gpd.read_file(fp, driver='KML')"
   ]
  },
  {
   "cell_type": "code",
   "execution_count": null,
   "metadata": {},
   "outputs": [],
   "source": [
    "plt.figure(figsize=(7,7))\n",
    "\n",
    "def decorate_axes(ax):\n",
    "    ax.set_global()\n",
    "    ax.add_feature(cfeature.OCEAN)\n",
    "    ax.coastlines()\n",
    "    ax.add_feature(cfeature.BORDERS, linestyle=':',linewidth=0.3, alpha=.5)\n",
    "\n",
    "# Define the CartoPy CRS object. This one will change during the animation. So let's keep it more general here.\n",
    "globe_proj = ccrs.Orthographic(central_latitude=23, central_longitude=60)\n",
    "\n",
    "# Now, we need to convert our GeoPandas data points into the same crs as the cartopy globe projection. \n",
    "# So we convert cartopy crs into a `proj4` string/dict compatible with GeoPandas and apply it to the data.\n",
    "crs_proj4 = globe_proj.proj4_init\n",
    "df_orto = df.to_crs(crs_proj4)\n",
    "\n",
    "ax = plt.axes([0, 0, 1, 1], projection=globe_proj)\n",
    "df_orto.plot(ax=ax,edgecolor='None',facecolor='red', alpha=0.5, marker='o')\n",
    "decorate_axes(ax)\n"
   ]
  },
  {
   "cell_type": "code",
   "execution_count": null,
   "metadata": {},
   "outputs": [],
   "source": [
    "plt.figure(figsize=(4,4))\n",
    "\n",
    "def decorate_axes(ax):\n",
    "    ax.set_global()\n",
    "    ax.add_feature(cfeature.OCEAN)\n",
    "    ax.coastlines()\n",
    "    ax.add_feature(cfeature.BORDERS, linestyle=':',linewidth=0.3, alpha=.5)\n",
    "\n",
    "    \n",
    "def animate(i):\n",
    "    lon = i\n",
    "\n",
    "    ax = plt.gca()\n",
    "    ax.remove()\n",
    "\n",
    "    # Define the CartoPy CRS object.\n",
    "    globe_proj = ccrs.Orthographic(central_latitude=23, central_longitude=lon)\n",
    "\n",
    "    # convert geolocations into a `proj4` string/dict compatible with GeoPandas\n",
    "    crs_proj4 = globe_proj.proj4_init\n",
    "    df_orto = df.to_crs(crs_proj4)\n",
    "\n",
    "    ax = plt.axes([0, 0, 1, 1], projection=globe_proj)\n",
    "    df_orto.plot(ax=ax,edgecolor='None',facecolor='red', alpha=0.5, marker='o')\n",
    "    \n",
    "    decorate_axes(ax)\n",
    "\n",
    "\n",
    "ani = animation.FuncAnimation(\n",
    "    plt.gcf(), animate,\n",
    "    frames=np.linspace(180,-180, 60),\n",
    "    interval=125, repeat=False)\n",
    "\n",
    "plt.show()\n",
    "# ani.save('../images/globe.gif', writer='imagemagick', dpi=plt.gcf().dpi)"
   ]
  }
 ],
 "metadata": {
  "kernelspec": {
   "display_name": "Python 3",
   "language": "python",
   "name": "python3"
  },
  "language_info": {
   "codemirror_mode": {
    "name": "ipython",
    "version": 3
   },
   "file_extension": ".py",
   "mimetype": "text/x-python",
   "name": "python",
   "nbconvert_exporter": "python",
   "pygments_lexer": "ipython3",
   "version": "3.6.10"
  }
 },
 "nbformat": 4,
 "nbformat_minor": 4
}
