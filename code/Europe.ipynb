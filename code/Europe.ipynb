{
 "cells": [
  {
   "cell_type": "markdown",
   "metadata": {},
   "source": [
    "# Examples to make plots of countries\n",
    "\n",
    "In order make plots of the World (and subsets of it), we use data from natural earth (https://www.naturalearthdata.com/) which are in the public domain. They are available at different scales and with different levels of details."
   ]
  },
  {
   "cell_type": "code",
   "execution_count": null,
   "metadata": {},
   "outputs": [],
   "source": [
    "import matplotlib.pyplot as plt\n",
    "%matplotlib inline\n",
    "\n",
    "import numpy as np"
   ]
  },
  {
   "cell_type": "markdown",
   "metadata": {},
   "source": [
    "### Plotting using GeoPandas"
   ]
  },
  {
   "cell_type": "code",
   "execution_count": null,
   "metadata": {},
   "outputs": [],
   "source": [
    "import geopandas as gpd\n",
    "\n",
    "import cartopy\n",
    "import cartopy.io.shapereader as shpreader\n",
    "import cartopy.crs as ccrs\n",
    "from cartopy.feature import ShapelyFeature\n",
    "\n",
    "# Read shape file  - get country borders\n",
    "resolution = '10m' #'10m'\n",
    "category = 'cultural'\n",
    "name = 'admin_0_countries'\n",
    "\n",
    "# read the natural earth shapefile using geopandas\n",
    "shpfilename = shpreader.natural_earth(resolution, category, name)\n",
    "world = gpd.read_file(shpfilename)\n",
    "\n",
    "world.plot()\n",
    "world.crs = \"epsg:4326\""
   ]
  },
  {
   "cell_type": "code",
   "execution_count": null,
   "metadata": {},
   "outputs": [],
   "source": [
    "# plot only one continent\n",
    "europe = world[world['CONTINENT'] == \"Europe\"]\n",
    "europe.plot()\n",
    "\n",
    "europe=europe[(europe['ADMIN']!='Russia') & (europe['ADMIN']!='Iceland')]\n",
    "europe.plot()\n",
    "# europe\n",
    "# save as shapefile\n",
    "# africa.to_file(\"africa.shp\")"
   ]
  },
  {
   "cell_type": "code",
   "execution_count": null,
   "metadata": {},
   "outputs": [],
   "source": [
    "from shapely.geometry import Polygon\n",
    "# Create a custom polygon\n",
    "polygon = Polygon([(-12,35), (20,35), (20,65),(-12,65)])\n",
    "poly_gdf = gpd.GeoDataFrame([1], geometry=[polygon], crs=world.crs)\n",
    "# ax.set_extent([-13, 45, 30, 70])\n",
    "\n",
    "fig,ax=plt.subplots()\n",
    "ax=europe.plot(ax=ax)\n",
    "poly_gdf.plot(edgecolor='red',ax=ax, alpha=0.1)\n",
    "plt.show()"
   ]
  },
  {
   "cell_type": "code",
   "execution_count": null,
   "metadata": {},
   "outputs": [],
   "source": [
    "main_land=europe[(europe['ADMIN']!='Russia') & (europe['ADMIN']!='Iceland') \n",
    "                 & (europe['ADMIN']!='Belarus') & (europe['ADMIN']!='Lithuania') \n",
    "                 & (europe['ADMIN']!='Finland') & (europe['ADMIN']!='Ukraine')\n",
    "                 & (europe['ADMIN']!='Estonia') & (europe['ADMIN']!='Latvia') \n",
    "#                  & (europe['ADMIN']!='Macedonia') & (europe['ADMIN']!='Albania') \n",
    "#                  & (europe['ADMIN']!='Kosovo') & (europe['ADMIN']!='Romania') \n",
    "#                  & (europe['ADMIN']!='Hungary') & (europe['ADMIN']!='Slovakia') \n",
    "#                  & (europe['ADMIN']!='Greece') & (europe['ADMIN']!='Republic of Serbia') \n",
    "#                  & (europe['ADMIN']!='Croatia') & (europe['ADMIN']!='Slovenia') \n",
    "#                  & (europe['ADMIN']!='Bulgaria') & (europe['ADMIN']!='Montenegro') \n",
    "#                  & (europe['ADMIN']!='Bosnia and Herzegovina') & (europe['ADMIN']!='Moldova') \n",
    "#                  & (europe['ADMIN']!='Malta') & (europe['ADMIN']!='Aland') \n",
    "#                  & (europe['ADMIN']!='Faroe Islands')\n",
    "                ]\n",
    "main_land.plot()\n",
    "main_land"
   ]
  },
  {
   "cell_type": "code",
   "execution_count": null,
   "metadata": {},
   "outputs": [],
   "source": [
    "newmain = gpd.clip(main_land, polygon) \n",
    "newmain.plot()"
   ]
  },
  {
   "cell_type": "code",
   "execution_count": null,
   "metadata": {},
   "outputs": [],
   "source": [
    "#Clip polygon from the map of Europe\n",
    "europe=gpd.clip(europe, polygon) \n",
    "europe.plot()"
   ]
  },
  {
   "cell_type": "code",
   "execution_count": null,
   "metadata": {},
   "outputs": [],
   "source": [
    "fig = plt.figure(figsize=(10, 10))\n",
    "ax = plt.axes(projection=cartopy.crs.Mollweide())\n",
    "plt.axis('off')\n",
    "newmain.plot(ax=ax, edgecolor=\"black\", facecolor='lightgray', lw=0.25)\n"
   ]
  },
  {
   "cell_type": "code",
   "execution_count": null,
   "metadata": {},
   "outputs": [],
   "source": [
    "europe.crs = \"epsg:4326\"\n",
    "europe.crs"
   ]
  },
  {
   "cell_type": "code",
   "execution_count": null,
   "metadata": {},
   "outputs": [],
   "source": [
    "# Let's make a copy of our data\n",
    "europe_wgs = europe.copy()\n",
    "\n",
    "# Reproject the data\n",
    "europe_lam = europe_wgs.to_crs(epsg=3035)\n"
   ]
  },
  {
   "cell_type": "code",
   "execution_count": null,
   "metadata": {},
   "outputs": [],
   "source": [
    "europe_lam.plot()"
   ]
  },
  {
   "cell_type": "code",
   "execution_count": null,
   "metadata": {},
   "outputs": [],
   "source": [
    "import cartopy.crs as ccrs\n",
    "import cartopy.feature as cf\n",
    "from matplotlib import pyplot as plt\n",
    "\n",
    "proj = ccrs.Miller()\n",
    "ax = plt.axes(projection=proj)\n",
    "ax.set_extent([-13, 45, 30, 70])\n",
    "# ax.stock_img()\n",
    "ax.add_feature(cf.COASTLINE, lw=1)\n",
    "ax.add_feature(cf.BORDERS)\n",
    "# Make figure larger\n",
    "plt.gcf().set_size_inches(20, 10)\n",
    "# Save figure as SVG\n",
    "# plt.savefig(\"Europe.svg\")"
   ]
  },
  {
   "cell_type": "code",
   "execution_count": null,
   "metadata": {},
   "outputs": [],
   "source": []
  },
  {
   "cell_type": "code",
   "execution_count": null,
   "metadata": {},
   "outputs": [],
   "source": []
  },
  {
   "cell_type": "code",
   "execution_count": null,
   "metadata": {},
   "outputs": [],
   "source": []
  },
  {
   "cell_type": "code",
   "execution_count": null,
   "metadata": {},
   "outputs": [],
   "source": []
  },
  {
   "cell_type": "code",
   "execution_count": null,
   "metadata": {},
   "outputs": [],
   "source": []
  },
  {
   "cell_type": "code",
   "execution_count": null,
   "metadata": {},
   "outputs": [],
   "source": [
    "### https://automating-gis-processes.github.io/CSC/notebooks/L2/projections.html\n",
    "\n",
    "# Import necessary packages\n",
    "import geopandas as gpd\n",
    "\n",
    "# Read the file\n",
    "fp = \"../L2_data/Europe_borders.shp\"\n",
    "data = gpd.read_file(fp)\n",
    "\n",
    "# Check the coordinate reference system\n",
    "data.crs"
   ]
  },
  {
   "cell_type": "code",
   "execution_count": null,
   "metadata": {},
   "outputs": [],
   "source": [
    "# Let's make a copy of our data\n",
    "orig = data.copy()\n",
    "\n",
    "# Reproject the data\n",
    "data = data.to_crs(epsg=3035)\n",
    "\n",
    "# Check the new geometry values\n",
    "print(data['geometry'].head())"
   ]
  },
  {
   "cell_type": "code",
   "execution_count": null,
   "metadata": {},
   "outputs": [],
   "source": [
    "%matplotlib inline\n",
    "import matplotlib.pyplot as plt\n",
    "\n",
    "# Make subplots that are next to each other\n",
    "fig, (ax1, ax2) = plt.subplots(nrows=1, ncols=2, figsize=(12, 8))\n",
    "\n",
    "# Plot the data in WGS84 CRS\n",
    "orig.plot(ax=ax1, facecolor='gray');\n",
    "\n",
    "# Add title\n",
    "ax1.set_title(\"WGS84\");\n",
    "\n",
    "# Plot the one with ETRS-LAEA projection\n",
    "data.plot(ax=ax2, facecolor='blue');\n",
    "\n",
    "# Add title\n",
    "ax2.set_title(\"ETRS Lambert Azimuthal Equal Area projection\");\n",
    "\n",
    "# Remove empty white space around the plot\n",
    "plt.tight_layout()"
   ]
  },
  {
   "cell_type": "code",
   "execution_count": null,
   "metadata": {},
   "outputs": [],
   "source": [
    "# fig = plt.figure(figsize=(10, 10))\n",
    "\n",
    "fig, ax1 = plt.subplots(nrows=1, ncols=1, figsize=(12, 12))\n",
    "plt.axis('off')\n",
    "\n",
    "data.plot(ax=ax1,facecolor='lightgrey',edgecolor='none',alpha=0.5)\n",
    "fig.savefig('../europe.svg')"
   ]
  },
  {
   "cell_type": "code",
   "execution_count": null,
   "metadata": {},
   "outputs": [],
   "source": [
    "ge = europe[europe['ADMIN']==\"Germany\"]\n",
    "ge = ge.to_crs(epsg=3035)\n",
    "uk = europe[europe['ADMIN']==\"United Kingdom\"]\n",
    "uk = uk.to_crs(epsg=3035)\n",
    "ch = europe[europe['ADMIN']==\"Switzerland\"]\n",
    "ch = ch.to_crs(epsg=3035)"
   ]
  },
  {
   "cell_type": "code",
   "execution_count": null,
   "metadata": {},
   "outputs": [],
   "source": [
    "fig, ax1 = plt.subplots(nrows=1, ncols=1, figsize=(12, 12))\n",
    "plt.axis('off')\n",
    "\n",
    "data.plot(ax=ax1,facecolor='lightgrey',edgecolor='none',alpha=0.0)\n",
    "ge.plot(ax=ax1,facecolor='#fbe49c')\n",
    "uk.plot(ax=ax1,facecolor='#fff4b0')\n",
    "ch.plot(ax=ax1,facecolor='#fffcd9')\n",
    "\n",
    "fig.savefig('../europe_countries.svg')"
   ]
  },
  {
   "cell_type": "code",
   "execution_count": null,
   "metadata": {},
   "outputs": [],
   "source": []
  },
  {
   "cell_type": "code",
   "execution_count": null,
   "metadata": {},
   "outputs": [],
   "source": []
  }
 ],
 "metadata": {
  "kernelspec": {
   "display_name": "Python 3",
   "language": "python",
   "name": "python3"
  },
  "language_info": {
   "codemirror_mode": {
    "name": "ipython",
    "version": 3
   },
   "file_extension": ".py",
   "mimetype": "text/x-python",
   "name": "python",
   "nbconvert_exporter": "python",
   "pygments_lexer": "ipython3",
   "version": "3.6.10"
  }
 },
 "nbformat": 4,
 "nbformat_minor": 4
}
