{
 "cells": [
  {
   "cell_type": "markdown",
   "metadata": {},
   "source": [
    "# Maps of animals seen near the H.E.S.S. site\n",
    "\n",
    "This notebook gives some examples on how to make maps of the habitat of different animal species which have been seen at and around the H.E.S.S. site which is located in the Khomas Highlands in Namibia. In general, two different data sources are used (unless specified otherwise): \n",
    "\n",
    "* All maps of the world and countries, i.e. their extend, physical borders, administrative boundaries, etc. are made with Natural Earth. Free vector and raster map data @ https://www.naturalearthdata.com/. Data are in the public domain. \n",
    "* The shapefiles of the extend of the animals habitats are taken from the IUCN Red List of Threatened Species (https://www.iucnredlist.org/). Data terms of use apply (https://www.iucnredlist.org/terms/terms-of-use), which can be summarized like: no commercial use, no reposting or redistribution of data, usage for educational purpose and scientific research granted. Acknowledgments and proper citation needed (incl version of the catalog used). \n",
    "\n",
    "This notebook uses a mixture of GeoPandas and Cartopy for making the maps. Documentation of these packages can be found elsewhere. "
   ]
  },
  {
   "cell_type": "code",
   "execution_count": null,
   "metadata": {},
   "outputs": [],
   "source": [
    "import matplotlib.pyplot as plt\n",
    "%matplotlib inline\n",
    "\n",
    "import numpy as np\n",
    "import geopandas as gpd\n",
    "\n",
    "import cartopy\n",
    "import cartopy.io.shapereader as shpreader\n",
    "import cartopy.crs as ccrs\n",
    "from cartopy.feature import ShapelyFeature"
   ]
  },
  {
   "cell_type": "markdown",
   "metadata": {},
   "source": [
    "## Plotting the world, continents and countries"
   ]
  },
  {
   "cell_type": "code",
   "execution_count": null,
   "metadata": {},
   "outputs": [],
   "source": [
    "# Read Natural Earth shape file to get country boundaries\n",
    "# it's recommended to switch to higher resolution when single countries are displayed\n",
    "\n",
    "resolution = '110m' #'10m'\n",
    "category = 'cultural'\n",
    "name = 'admin_0_countries'\n",
    "\n",
    "# read the natural earth shapefile using geopandas\n",
    "shpfilename = shpreader.natural_earth(resolution, category, name)\n",
    "world = gpd.read_file(shpfilename)\n",
    "\n",
    "world.plot()"
   ]
  },
  {
   "cell_type": "code",
   "execution_count": null,
   "metadata": {},
   "outputs": [],
   "source": [
    "# plot only one continent\n",
    "africa = world[world['CONTINENT'] == \"Africa\"]\n",
    "africa.plot()\n",
    "\n",
    "# save as shapefile\n",
    "# africa.to_file(\"africa.shp\")"
   ]
  },
  {
   "cell_type": "code",
   "execution_count": null,
   "metadata": {},
   "outputs": [],
   "source": [
    "# plot only one country\n",
    "namibia = africa[africa['ADMIN'] == \"Namibia\"]\n",
    "namibia.plot()\n",
    "\n",
    "# save as shapefile\n",
    "# namibia.to_file(\"namibia.shp\")\n",
    "# read from file\n",
    "# df = gpd.read_file(\"namibia.shp\")"
   ]
  },
  {
   "cell_type": "markdown",
   "metadata": {},
   "source": [
    "## Read and plot the shapefiles from the IUCN red list\n",
    "\n",
    "The data have to be downloaded directly from the IUCN wegpage (login required, no redistribution of data here given the IUCN data terms of use). For easier bookkeeping, its recommended to store them in a named folder, as files from different species are always following the same naming convention and none of them includes the animal name. \n",
    "* data_0.shp is the shapefile used in the following"
   ]
  },
  {
   "cell_type": "markdown",
   "metadata": {},
   "source": [
    "### Pangolin \n",
    "\n",
    "Temminck's Pangolin Smutsia temminckii has most recently been assessed for The IUCN Red List of Threatened Species in 2019. Smutsia temminckii is listed as Vulnerable. Download 15 Dez 2021. "
   ]
  },
  {
   "cell_type": "code",
   "execution_count": null,
   "metadata": {},
   "outputs": [],
   "source": [
    "pango = gpd.read_file('../pangolin/data_0.shp')\n",
    "pango.plot()"
   ]
  },
  {
   "cell_type": "markdown",
   "metadata": {},
   "source": [
    "### Marico Sunbird\n",
    "\n",
    "Mariqua Sunbird Cinnyris mariquensis has most recently been assessed for The IUCN Red List of Threatened Species in 2018. Cinnyris mariquensis is listed as Least Concern. Downloaded 22 Dez 2021."
   ]
  },
  {
   "cell_type": "code",
   "execution_count": null,
   "metadata": {},
   "outputs": [],
   "source": [
    "sunbird = gpd.read_file('../sunbird/data_0.shp')\n",
    "sunbird.plot()"
   ]
  },
  {
   "cell_type": "markdown",
   "metadata": {},
   "source": [
    "## Plot IUCN data onto Africa "
   ]
  },
  {
   "cell_type": "code",
   "execution_count": null,
   "metadata": {},
   "outputs": [],
   "source": [
    "fig = plt.figure(figsize=(10, 10))\n",
    "ax = plt.axes(projection=cartopy.crs.Mollweide())\n",
    "plt.axis('off')\n",
    "africa.plot(ax=ax, edgecolor=\"peachpuff\", facecolor='none', lw=1)\n",
    "# namibia.plot(ax=ax, edgecolor=\"None\", facecolor='red', lw=0.25)\n",
    "pango.plot(ax=ax,edgecolor=\"none\", facecolor='navajowhite', alpha=0.7)\n",
    "\n",
    "fig.savefig('../pangolin/pango.svg')"
   ]
  },
  {
   "cell_type": "code",
   "execution_count": null,
   "metadata": {},
   "outputs": [],
   "source": [
    "# plot continent and highlight one country\n",
    "fig = plt.figure(figsize=(10, 10))\n",
    "ax = plt.axes(projection=cartopy.crs.Mollweide())\n",
    "plt.axis('off')\n",
    "africa.plot(ax=ax, edgecolor=\"peachpuff\", facecolor='none', lw=1)\n",
    "sunbird.plot(ax=ax,edgecolor=\"none\", facecolor='navajowhite', alpha=0.7)\n",
    "\n",
    "fig.savefig('../sunbird/sunbird.svg')"
   ]
  },
  {
   "cell_type": "code",
   "execution_count": null,
   "metadata": {},
   "outputs": [],
   "source": []
  }
 ],
 "metadata": {
  "kernelspec": {
   "display_name": "Python 3",
   "language": "python",
   "name": "python3"
  },
  "language_info": {
   "codemirror_mode": {
    "name": "ipython",
    "version": 3
   },
   "file_extension": ".py",
   "mimetype": "text/x-python",
   "name": "python",
   "nbconvert_exporter": "python",
   "pygments_lexer": "ipython3",
   "version": "3.6.10"
  }
 },
 "nbformat": 4,
 "nbformat_minor": 4
}
